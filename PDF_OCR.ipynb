{
  "nbformat": 4,
  "nbformat_minor": 0,
  "metadata": {
    "colab": {
      "name": "PDF_OCR.ipynb",
      "provenance": [],
      "include_colab_link": true
    },
    "kernelspec": {
      "name": "python3",
      "display_name": "Python 3"
    },
    "language_info": {
      "name": "python"
    }
  },
  "cells": [
    {
      "cell_type": "markdown",
      "metadata": {
        "id": "view-in-github",
        "colab_type": "text"
      },
      "source": [
        "<a href=\"https://colab.research.google.com/github/louispaulet/OCRmyPDF_google_colab/blob/main/PDF_OCR.ipynb\" target=\"_parent\"><img src=\"https://colab.research.google.com/assets/colab-badge.svg\" alt=\"Open In Colab\"/></a>"
      ]
    },
    {
      "cell_type": "markdown",
      "metadata": {
        "id": "ClOQuULUQSy3"
      },
      "source": [
        "# Convert PDF to OCR Searchable PDF !"
      ]
    },
    {
      "cell_type": "markdown",
      "metadata": {
        "id": "8m9DpYPjgpv-"
      },
      "source": [
        "You can reduce the lib imports section (but don't forget to run it)."
      ]
    },
    {
      "cell_type": "markdown",
      "metadata": {
        "id": "nr0tFRNcQX0p"
      },
      "source": [
        "## Lib imports"
      ]
    },
    {
      "cell_type": "markdown",
      "metadata": {
        "id": "TkyND3wwdX3x"
      },
      "source": [
        "Main OCR Lib can be found here : https://github.com/jbarlow83/OCRmyPDF \n",
        "Everything else is a compulsory dependency."
      ]
    },
    {
      "cell_type": "code",
      "metadata": {
        "colab": {
          "base_uri": "https://localhost:8080/"
        },
        "id": "sBl8EFSDPFR0",
        "outputId": "07cd4b02-db53-4122-b0d5-53a51b1a6359"
      },
      "source": [
        "! apt install tesseract-ocr\n",
        "! apt install libtesseract-dev"
      ],
      "execution_count": 1,
      "outputs": [
        {
          "output_type": "stream",
          "text": [
            "Reading package lists... Done\n",
            "Building dependency tree       \n",
            "Reading state information... Done\n",
            "The following additional packages will be installed:\n",
            "  tesseract-ocr-eng tesseract-ocr-osd\n",
            "The following NEW packages will be installed:\n",
            "  tesseract-ocr tesseract-ocr-eng tesseract-ocr-osd\n",
            "0 upgraded, 3 newly installed, 0 to remove and 31 not upgraded.\n",
            "Need to get 4,795 kB of archives.\n",
            "After this operation, 15.8 MB of additional disk space will be used.\n",
            "Get:1 http://archive.ubuntu.com/ubuntu bionic/universe amd64 tesseract-ocr-eng all 4.00~git24-0e00fe6-1.2 [1,588 kB]\n",
            "Get:2 http://archive.ubuntu.com/ubuntu bionic/universe amd64 tesseract-ocr-osd all 4.00~git24-0e00fe6-1.2 [2,989 kB]\n",
            "Get:3 http://archive.ubuntu.com/ubuntu bionic/universe amd64 tesseract-ocr amd64 4.00~git2288-10f4998a-2 [218 kB]\n",
            "Fetched 4,795 kB in 2s (2,768 kB/s)\n",
            "Selecting previously unselected package tesseract-ocr-eng.\n",
            "(Reading database ... 160983 files and directories currently installed.)\n",
            "Preparing to unpack .../tesseract-ocr-eng_4.00~git24-0e00fe6-1.2_all.deb ...\n",
            "Unpacking tesseract-ocr-eng (4.00~git24-0e00fe6-1.2) ...\n",
            "Selecting previously unselected package tesseract-ocr-osd.\n",
            "Preparing to unpack .../tesseract-ocr-osd_4.00~git24-0e00fe6-1.2_all.deb ...\n",
            "Unpacking tesseract-ocr-osd (4.00~git24-0e00fe6-1.2) ...\n",
            "Selecting previously unselected package tesseract-ocr.\n",
            "Preparing to unpack .../tesseract-ocr_4.00~git2288-10f4998a-2_amd64.deb ...\n",
            "Unpacking tesseract-ocr (4.00~git2288-10f4998a-2) ...\n",
            "Setting up tesseract-ocr-osd (4.00~git24-0e00fe6-1.2) ...\n",
            "Setting up tesseract-ocr-eng (4.00~git24-0e00fe6-1.2) ...\n",
            "Setting up tesseract-ocr (4.00~git2288-10f4998a-2) ...\n",
            "Processing triggers for man-db (2.8.3-2ubuntu0.1) ...\n",
            "Reading package lists... Done\n",
            "Building dependency tree       \n",
            "Reading state information... Done\n",
            "The following additional packages will be installed:\n",
            "  libleptonica-dev\n",
            "The following NEW packages will be installed:\n",
            "  libleptonica-dev libtesseract-dev\n",
            "0 upgraded, 2 newly installed, 0 to remove and 31 not upgraded.\n",
            "Need to get 2,755 kB of archives.\n",
            "After this operation, 13.8 MB of additional disk space will be used.\n",
            "Get:1 http://archive.ubuntu.com/ubuntu bionic/universe amd64 libleptonica-dev amd64 1.75.3-3 [1,308 kB]\n",
            "Get:2 http://archive.ubuntu.com/ubuntu bionic/universe amd64 libtesseract-dev amd64 4.00~git2288-10f4998a-2 [1,447 kB]\n",
            "Fetched 2,755 kB in 2s (1,690 kB/s)\n",
            "Selecting previously unselected package libleptonica-dev.\n",
            "(Reading database ... 161030 files and directories currently installed.)\n",
            "Preparing to unpack .../libleptonica-dev_1.75.3-3_amd64.deb ...\n",
            "Unpacking libleptonica-dev (1.75.3-3) ...\n",
            "Selecting previously unselected package libtesseract-dev.\n",
            "Preparing to unpack .../libtesseract-dev_4.00~git2288-10f4998a-2_amd64.deb ...\n",
            "Unpacking libtesseract-dev (4.00~git2288-10f4998a-2) ...\n",
            "Setting up libleptonica-dev (1.75.3-3) ...\n",
            "Setting up libtesseract-dev (4.00~git2288-10f4998a-2) ...\n"
          ],
          "name": "stdout"
        }
      ]
    },
    {
      "cell_type": "code",
      "metadata": {
        "colab": {
          "base_uri": "https://localhost:8080/"
        },
        "id": "RWdJNvEfOpWb",
        "outputId": "ebbcfbfe-2a8f-4677-c875-94ac1c10f0d9"
      },
      "source": [
        "!pip install pytesseract"
      ],
      "execution_count": 2,
      "outputs": [
        {
          "output_type": "stream",
          "text": [
            "Collecting pytesseract\n",
            "  Downloading https://files.pythonhosted.org/packages/a0/e6/a4e9fc8a93c1318540e8de6d8d4beb5749b7960388a7c7f27799fc2dd016/pytesseract-0.3.7.tar.gz\n",
            "Requirement already satisfied: Pillow in /usr/local/lib/python3.7/dist-packages (from pytesseract) (7.1.2)\n",
            "Building wheels for collected packages: pytesseract\n",
            "  Building wheel for pytesseract (setup.py) ... \u001b[?25l\u001b[?25hdone\n",
            "  Created wheel for pytesseract: filename=pytesseract-0.3.7-py2.py3-none-any.whl size=13945 sha256=4173e69cf0321998bd8b9b2f20edc35c784c0b5bb86d7e565329c7360fe09808\n",
            "  Stored in directory: /root/.cache/pip/wheels/81/20/7e/1dd0daad1575d5260916bb1e9781246430647adaef4b3ca3b3\n",
            "Successfully built pytesseract\n",
            "Installing collected packages: pytesseract\n",
            "Successfully installed pytesseract-0.3.7\n"
          ],
          "name": "stdout"
        }
      ]
    },
    {
      "cell_type": "code",
      "metadata": {
        "colab": {
          "base_uri": "https://localhost:8080/"
        },
        "id": "paGWcxHCRSDE",
        "outputId": "cc7e17fc-39f0-475d-9d23-af76913e4a5c"
      },
      "source": [
        "!apt install ghostscript"
      ],
      "execution_count": 3,
      "outputs": [
        {
          "output_type": "stream",
          "text": [
            "Reading package lists... Done\n",
            "Building dependency tree       \n",
            "Reading state information... Done\n",
            "The following additional packages will be installed:\n",
            "  fonts-droid-fallback fonts-noto-mono gsfonts libcupsfilters1 libcupsimage2\n",
            "  libgs9 libgs9-common libijs-0.35 libjbig2dec0 poppler-data\n",
            "Suggested packages:\n",
            "  fonts-noto ghostscript-x poppler-utils fonts-japanese-mincho\n",
            "  | fonts-ipafont-mincho fonts-japanese-gothic | fonts-ipafont-gothic\n",
            "  fonts-arphic-ukai fonts-arphic-uming fonts-nanum\n",
            "The following NEW packages will be installed:\n",
            "  fonts-droid-fallback fonts-noto-mono ghostscript gsfonts libcupsfilters1\n",
            "  libcupsimage2 libgs9 libgs9-common libijs-0.35 libjbig2dec0 poppler-data\n",
            "0 upgraded, 11 newly installed, 0 to remove and 31 not upgraded.\n",
            "Need to get 14.1 MB of archives.\n",
            "After this operation, 49.9 MB of additional disk space will be used.\n",
            "Get:1 http://archive.ubuntu.com/ubuntu bionic/main amd64 fonts-droid-fallback all 1:6.0.1r16-1.1 [1,805 kB]\n",
            "Get:2 http://archive.ubuntu.com/ubuntu bionic/main amd64 poppler-data all 0.4.8-2 [1,479 kB]\n",
            "Get:3 http://archive.ubuntu.com/ubuntu bionic/main amd64 fonts-noto-mono all 20171026-2 [75.5 kB]\n",
            "Get:4 http://archive.ubuntu.com/ubuntu bionic-updates/main amd64 libcupsimage2 amd64 2.2.7-1ubuntu2.8 [18.6 kB]\n",
            "Get:5 http://archive.ubuntu.com/ubuntu bionic/main amd64 libijs-0.35 amd64 0.35-13 [15.5 kB]\n",
            "Get:6 http://archive.ubuntu.com/ubuntu bionic/main amd64 libjbig2dec0 amd64 0.13-6 [55.9 kB]\n",
            "Get:7 http://archive.ubuntu.com/ubuntu bionic-updates/main amd64 libgs9-common all 9.26~dfsg+0-0ubuntu0.18.04.14 [5,092 kB]\n",
            "Get:8 http://archive.ubuntu.com/ubuntu bionic-updates/main amd64 libgs9 amd64 9.26~dfsg+0-0ubuntu0.18.04.14 [2,265 kB]\n",
            "Get:9 http://archive.ubuntu.com/ubuntu bionic-updates/main amd64 ghostscript amd64 9.26~dfsg+0-0ubuntu0.18.04.14 [51.3 kB]\n",
            "Get:10 http://archive.ubuntu.com/ubuntu bionic/main amd64 gsfonts all 1:8.11+urwcyr1.0.7~pre44-4.4 [3,120 kB]\n",
            "Get:11 http://archive.ubuntu.com/ubuntu bionic-updates/main amd64 libcupsfilters1 amd64 1.20.2-0ubuntu3.1 [108 kB]\n",
            "Fetched 14.1 MB in 2s (6,595 kB/s)\n",
            "Selecting previously unselected package fonts-droid-fallback.\n",
            "(Reading database ... 161141 files and directories currently installed.)\n",
            "Preparing to unpack .../00-fonts-droid-fallback_1%3a6.0.1r16-1.1_all.deb ...\n",
            "Unpacking fonts-droid-fallback (1:6.0.1r16-1.1) ...\n",
            "Selecting previously unselected package poppler-data.\n",
            "Preparing to unpack .../01-poppler-data_0.4.8-2_all.deb ...\n",
            "Unpacking poppler-data (0.4.8-2) ...\n",
            "Selecting previously unselected package fonts-noto-mono.\n",
            "Preparing to unpack .../02-fonts-noto-mono_20171026-2_all.deb ...\n",
            "Unpacking fonts-noto-mono (20171026-2) ...\n",
            "Selecting previously unselected package libcupsimage2:amd64.\n",
            "Preparing to unpack .../03-libcupsimage2_2.2.7-1ubuntu2.8_amd64.deb ...\n",
            "Unpacking libcupsimage2:amd64 (2.2.7-1ubuntu2.8) ...\n",
            "Selecting previously unselected package libijs-0.35:amd64.\n",
            "Preparing to unpack .../04-libijs-0.35_0.35-13_amd64.deb ...\n",
            "Unpacking libijs-0.35:amd64 (0.35-13) ...\n",
            "Selecting previously unselected package libjbig2dec0:amd64.\n",
            "Preparing to unpack .../05-libjbig2dec0_0.13-6_amd64.deb ...\n",
            "Unpacking libjbig2dec0:amd64 (0.13-6) ...\n",
            "Selecting previously unselected package libgs9-common.\n",
            "Preparing to unpack .../06-libgs9-common_9.26~dfsg+0-0ubuntu0.18.04.14_all.deb ...\n",
            "Unpacking libgs9-common (9.26~dfsg+0-0ubuntu0.18.04.14) ...\n",
            "Selecting previously unselected package libgs9:amd64.\n",
            "Preparing to unpack .../07-libgs9_9.26~dfsg+0-0ubuntu0.18.04.14_amd64.deb ...\n",
            "Unpacking libgs9:amd64 (9.26~dfsg+0-0ubuntu0.18.04.14) ...\n",
            "Selecting previously unselected package ghostscript.\n",
            "Preparing to unpack .../08-ghostscript_9.26~dfsg+0-0ubuntu0.18.04.14_amd64.deb ...\n",
            "Unpacking ghostscript (9.26~dfsg+0-0ubuntu0.18.04.14) ...\n",
            "Selecting previously unselected package gsfonts.\n",
            "Preparing to unpack .../09-gsfonts_1%3a8.11+urwcyr1.0.7~pre44-4.4_all.deb ...\n",
            "Unpacking gsfonts (1:8.11+urwcyr1.0.7~pre44-4.4) ...\n",
            "Selecting previously unselected package libcupsfilters1:amd64.\n",
            "Preparing to unpack .../10-libcupsfilters1_1.20.2-0ubuntu3.1_amd64.deb ...\n",
            "Unpacking libcupsfilters1:amd64 (1.20.2-0ubuntu3.1) ...\n",
            "Setting up libgs9-common (9.26~dfsg+0-0ubuntu0.18.04.14) ...\n",
            "Setting up fonts-droid-fallback (1:6.0.1r16-1.1) ...\n",
            "Setting up gsfonts (1:8.11+urwcyr1.0.7~pre44-4.4) ...\n",
            "Setting up poppler-data (0.4.8-2) ...\n",
            "Setting up fonts-noto-mono (20171026-2) ...\n",
            "Setting up libcupsfilters1:amd64 (1.20.2-0ubuntu3.1) ...\n",
            "Setting up libcupsimage2:amd64 (2.2.7-1ubuntu2.8) ...\n",
            "Setting up libjbig2dec0:amd64 (0.13-6) ...\n",
            "Setting up libijs-0.35:amd64 (0.35-13) ...\n",
            "Setting up libgs9:amd64 (9.26~dfsg+0-0ubuntu0.18.04.14) ...\n",
            "Setting up ghostscript (9.26~dfsg+0-0ubuntu0.18.04.14) ...\n",
            "Processing triggers for man-db (2.8.3-2ubuntu0.1) ...\n",
            "Processing triggers for fontconfig (2.12.6-0ubuntu2) ...\n",
            "Processing triggers for libc-bin (2.27-3ubuntu1.2) ...\n",
            "/sbin/ldconfig.real: /usr/local/lib/python3.7/dist-packages/ideep4py/lib/libmkldnn.so.0 is not a symbolic link\n",
            "\n"
          ],
          "name": "stdout"
        }
      ]
    },
    {
      "cell_type": "code",
      "metadata": {
        "colab": {
          "base_uri": "https://localhost:8080/"
        },
        "id": "-r5OBayiN0AJ",
        "outputId": "da64da20-9fb5-42da-fe29-4443601cd796"
      },
      "source": [
        "!pip install ocrmypdf"
      ],
      "execution_count": 4,
      "outputs": [
        {
          "output_type": "stream",
          "text": [
            "Collecting ocrmypdf\n",
            "\u001b[?25l  Downloading https://files.pythonhosted.org/packages/51/4c/09e07b5ea304887723f02497bbe4470405e145828d09eb59b45de5cbbc9f/ocrmypdf-11.7.3-py36-none-any.whl (130kB)\n",
            "\u001b[K     |████████████████████████████████| 133kB 8.1MB/s \n",
            "\u001b[?25hCollecting img2pdf<0.5,>=0.3.0\n",
            "\u001b[?25l  Downloading https://files.pythonhosted.org/packages/80/ed/5167992abaf268f5a5867e974d9d36a8fa4802800898ec711f4e1942b4f5/img2pdf-0.4.0.tar.gz (107kB)\n",
            "\u001b[K     |████████████████████████████████| 112kB 12.9MB/s \n",
            "\u001b[?25hCollecting pluggy<1.0,>=0.13.0\n",
            "  Downloading https://files.pythonhosted.org/packages/a0/28/85c7aa31b80d150b772fbe4a229487bc6644da9ccb7e427dd8cc60cb8a62/pluggy-0.13.1-py2.py3-none-any.whl\n",
            "Collecting reportlab>=3.3.0\n",
            "\u001b[?25l  Downloading https://files.pythonhosted.org/packages/51/36/e0a6859c4fdab893c5ebb570e387fcf8dfe77d283650cd8422ef331cd892/reportlab-3.5.67-cp37-cp37m-manylinux2010_x86_64.whl (2.6MB)\n",
            "\u001b[K     |████████████████████████████████| 2.6MB 10.4MB/s \n",
            "\u001b[?25hCollecting coloredlogs>=14.0\n",
            "\u001b[?25l  Downloading https://files.pythonhosted.org/packages/84/a6/837dbf6eac344cb74f0ba86b79e8180855570af3e26bcb1ea5f650cf944c/coloredlogs-15.0-py2.py3-none-any.whl (45kB)\n",
            "\u001b[K     |████████████████████████████████| 51kB 5.3MB/s \n",
            "\u001b[?25hRequirement already satisfied: Pillow>=7.0.0 in /usr/local/lib/python3.7/dist-packages (from ocrmypdf) (7.1.2)\n",
            "Requirement already satisfied: tqdm>=4 in /usr/local/lib/python3.7/dist-packages (from ocrmypdf) (4.41.1)\n",
            "Requirement already satisfied: cffi>=1.9.1 in /usr/local/lib/python3.7/dist-packages (from ocrmypdf) (1.14.5)\n",
            "Collecting pdfminer.six!=20200720,<=20201018,>=20191110\n",
            "\u001b[?25l  Downloading https://files.pythonhosted.org/packages/93/f3/4fec7dabe8802ebec46141345bf714cd1fc7d93cb74ddde917e4b6d97d88/pdfminer.six-20201018-py3-none-any.whl (5.6MB)\n",
            "\u001b[K     |████████████████████████████████| 5.6MB 27.0MB/s \n",
            "\u001b[?25hCollecting pikepdf<3,>=1.14.0; python_version < \"3.9\"\n",
            "\u001b[?25l  Downloading https://files.pythonhosted.org/packages/6e/91/1f1f68225306e8bc0dc7fda8e3ebc6fbef58ad0d2b45fa6d47372a7dfcdf/pikepdf-2.11.1-cp37-cp37m-manylinux2010_x86_64.whl (1.9MB)\n",
            "\u001b[K     |████████████████████████████████| 1.9MB 49.1MB/s \n",
            "\u001b[?25hRequirement already satisfied: importlib-metadata>=0.12; python_version < \"3.8\" in /usr/local/lib/python3.7/dist-packages (from pluggy<1.0,>=0.13.0->ocrmypdf) (3.10.1)\n",
            "Collecting humanfriendly>=9.1\n",
            "\u001b[?25l  Downloading https://files.pythonhosted.org/packages/93/66/363d01a81da2108a5cf446daf619779f06d49a0c4426dd02b40734f10e2f/humanfriendly-9.1-py2.py3-none-any.whl (86kB)\n",
            "\u001b[K     |████████████████████████████████| 92kB 8.4MB/s \n",
            "\u001b[?25hRequirement already satisfied: pycparser in /usr/local/lib/python3.7/dist-packages (from cffi>=1.9.1->ocrmypdf) (2.20)\n",
            "Requirement already satisfied: chardet; python_version > \"3.0\" in /usr/local/lib/python3.7/dist-packages (from pdfminer.six!=20200720,<=20201018,>=20191110->ocrmypdf) (3.0.4)\n",
            "Requirement already satisfied: sortedcontainers in /usr/local/lib/python3.7/dist-packages (from pdfminer.six!=20200720,<=20201018,>=20191110->ocrmypdf) (2.3.0)\n",
            "Collecting cryptography\n",
            "\u001b[?25l  Downloading https://files.pythonhosted.org/packages/b2/26/7af637e6a7e87258b963f1731c5982fb31cd507f0d90d91836e446955d02/cryptography-3.4.7-cp36-abi3-manylinux2014_x86_64.whl (3.2MB)\n",
            "\u001b[K     |████████████████████████████████| 3.2MB 48.9MB/s \n",
            "\u001b[?25hRequirement already satisfied: lxml>=4.0 in /usr/local/lib/python3.7/dist-packages (from pikepdf<3,>=1.14.0; python_version < \"3.9\"->ocrmypdf) (4.2.6)\n",
            "Requirement already satisfied: typing-extensions>=3.6.4; python_version < \"3.8\" in /usr/local/lib/python3.7/dist-packages (from importlib-metadata>=0.12; python_version < \"3.8\"->pluggy<1.0,>=0.13.0->ocrmypdf) (3.7.4.3)\n",
            "Requirement already satisfied: zipp>=0.5 in /usr/local/lib/python3.7/dist-packages (from importlib-metadata>=0.12; python_version < \"3.8\"->pluggy<1.0,>=0.13.0->ocrmypdf) (3.4.1)\n",
            "Building wheels for collected packages: img2pdf\n",
            "  Building wheel for img2pdf (setup.py) ... \u001b[?25l\u001b[?25hdone\n",
            "  Created wheel for img2pdf: filename=img2pdf-0.4.0-cp37-none-any.whl size=40503 sha256=e309bdb01a4d72db8e74bfa21b344aaa569882683ea1bbd8b954aa8dced1842d\n",
            "  Stored in directory: /root/.cache/pip/wheels/90/f5/7f/b88a76bac33669118e7549f4856bbe975a3ad2e59280c59196\n",
            "Successfully built img2pdf\n",
            "\u001b[31mERROR: pytest 3.6.4 has requirement pluggy<0.8,>=0.5, but you'll have pluggy 0.13.1 which is incompatible.\u001b[0m\n",
            "\u001b[31mERROR: datascience 0.10.6 has requirement folium==0.2.1, but you'll have folium 0.8.3 which is incompatible.\u001b[0m\n",
            "Installing collected packages: pikepdf, img2pdf, pluggy, reportlab, humanfriendly, coloredlogs, cryptography, pdfminer.six, ocrmypdf\n",
            "  Found existing installation: pluggy 0.7.1\n",
            "    Uninstalling pluggy-0.7.1:\n",
            "      Successfully uninstalled pluggy-0.7.1\n",
            "Successfully installed coloredlogs-15.0 cryptography-3.4.7 humanfriendly-9.1 img2pdf-0.4.0 ocrmypdf-11.7.3 pdfminer.six-20201018 pikepdf-2.11.1 pluggy-0.13.1 reportlab-3.5.67\n"
          ],
          "name": "stdout"
        }
      ]
    },
    {
      "cell_type": "code",
      "metadata": {
        "colab": {
          "base_uri": "https://localhost:8080/"
        },
        "id": "HYDNbBrEN_GZ",
        "outputId": "8881267b-8128-4051-dd77-a66ba45a8986"
      },
      "source": [
        "!ocrmypdf --help"
      ],
      "execution_count": 5,
      "outputs": [
        {
          "output_type": "stream",
          "text": [
            "usage: ocrmypdf [-h] [-l LANGUAGES] [--image-dpi DPI]\n",
            "                [--output-type {pdfa,pdf,pdfa-1,pdfa-2,pdfa-3}]\n",
            "                [--sidecar [FILE]] [--version] [-j N] [-q] [-v [VERBOSE]]\n",
            "                [--title TITLE] [--author AUTHOR] [--subject SUBJECT]\n",
            "                [--keywords KEYWORDS] [-r] [--remove-background] [-d] [-c]\n",
            "                [-i] [--unpaper-args UNPAPER_ARGS] [--oversample DPI]\n",
            "                [--remove-vectors] [--threshold] [-f] [-s] [--redo-ocr]\n",
            "                [--skip-big MPixels] [-O {0,1,2,3}] [--jpeg-quality Q]\n",
            "                [--png-quality Q] [--jbig2-lossy] [--pages PAGES]\n",
            "                [--max-image-mpixels MPixels]\n",
            "                [--pdf-renderer {auto,hocr,sandwich,hocrdebug}]\n",
            "                [--rotate-pages-threshold CONFIDENCE]\n",
            "                [--pdfa-image-compression {auto,jpeg,lossless}]\n",
            "                [--fast-web-view MEGABYTES] [--plugin PLUGINS] [-k]\n",
            "                [--tesseract-config CFG] [--tesseract-pagesegmode PSM]\n",
            "                [--tesseract-oem MODE] [--tesseract-timeout SECONDS]\n",
            "                [--user-words FILE] [--user-patterns FILE]\n",
            "                input_pdf_or_image output_pdf\n",
            "\n",
            "Generates a searchable PDF or PDF/A from a regular PDF.\n",
            "\n",
            "OCRmyPDF rasterizes each page of the input PDF, optionally corrects page\n",
            "rotation and performs image processing, runs the Tesseract OCR engine on the\n",
            "image, and then creates a PDF from the OCR information.\n",
            "\n",
            "positional arguments:\n",
            "  input_pdf_or_image    PDF file containing the images to be OCRed (or '-' to\n",
            "                        read from standard input)\n",
            "  output_pdf            Output searchable PDF file (or '-' to write to\n",
            "                        standard output). Existing files will be ovewritten.\n",
            "                        If same as input file, the input file will be updated\n",
            "                        only if processing is successful.\n",
            "\n",
            "optional arguments:\n",
            "  -h, --help            show this help message and exit\n",
            "  -l LANGUAGES, --language LANGUAGES\n",
            "                        Language(s) of the file to be OCRed (see tesseract\n",
            "                        --list-langs for all language packs installed in your\n",
            "                        system). Use -l eng+deu for multiple languages.\n",
            "  --image-dpi DPI       For input image instead of PDF, use this DPI instead\n",
            "                        of file's.\n",
            "  --output-type {pdfa,pdf,pdfa-1,pdfa-2,pdfa-3}\n",
            "                        Choose output type. 'pdfa' creates a PDF/A-2b\n",
            "                        compliant file for long term archiving (default,\n",
            "                        recommended) but may not suitable for users who want\n",
            "                        their file altered as little as possible. 'pdfa' also\n",
            "                        has problems with full Unicode text. 'pdf' attempts to\n",
            "                        preserve file contents as much as possible. 'pdf-a1'\n",
            "                        creates a PDF/A1-b file. 'pdf-a2' is equivalent to\n",
            "                        'pdfa'. 'pdf-a3' creates a PDF/A3-b file.\n",
            "  --sidecar [FILE]      Generate sidecar text files that contain the same text\n",
            "                        recognized by Tesseract. This may be useful for\n",
            "                        building a OCR text database. If FILE is omitted, the\n",
            "                        sidecar file be named {output_file}.txt; the next\n",
            "                        argument must NOT be the name of the input PDF. If\n",
            "                        FILE is set to '-', the sidecar is written to stdout\n",
            "                        (a convenient way to preview OCR quality). The output\n",
            "                        file and sidecar may not both use stdout at the same\n",
            "                        time.\n",
            "  --version             Print program version and exit\n",
            "\n",
            "Job control options:\n",
            "  -j N, --jobs N        Use up to N CPU cores simultaneously (default: use\n",
            "                        all).\n",
            "  -q, --quiet           Suppress INFO messages\n",
            "  -v [VERBOSE], --verbose [VERBOSE]\n",
            "                        Print more verbose messages for each additional\n",
            "                        verbose level. Use `-v 1` typically for much more\n",
            "                        detailed logging. Higher numbers are probably only\n",
            "                        useful in debugging.\n",
            "\n",
            "Metadata options:\n",
            "  Set output PDF/A metadata (default: copy input document's metadata)\n",
            "\n",
            "  --title TITLE         Set document title (place multiple words in quotes)\n",
            "  --author AUTHOR       Set document author\n",
            "  --subject SUBJECT     Set document subject description\n",
            "  --keywords KEYWORDS   Set document keywords\n",
            "\n",
            "Image preprocessing options:\n",
            "  Options to improve the quality of the final PDF and OCR\n",
            "\n",
            "  -r, --rotate-pages    Automatically rotate pages based on detected text\n",
            "                        orientation\n",
            "  --remove-background   Attempt to remove background from gray or color pages,\n",
            "                        setting it to white\n",
            "  -d, --deskew          Deskew each page before performing OCR\n",
            "  -c, --clean           Clean pages from scanning artifacts before performing\n",
            "                        OCR, and send the cleaned page to OCR, but do not\n",
            "                        include the cleaned page in the output\n",
            "  -i, --clean-final     Clean page as above, and incorporate the cleaned image\n",
            "                        in the final PDF. Might remove desired content.\n",
            "  --unpaper-args UNPAPER_ARGS\n",
            "                        A quoted string of arguments to pass to unpaper.\n",
            "                        Requires --clean. Example: --unpaper-args '--layout\n",
            "                        double'.\n",
            "  --oversample DPI      Oversample images to at least the specified DPI, to\n",
            "                        improve OCR results slightly\n",
            "  --remove-vectors      EXPERIMENTAL. Mask out any vector objects in the PDF\n",
            "                        so that they will not be included in OCR. This can\n",
            "                        eliminate false characters.\n",
            "  --threshold           EXPERIMENTAL. Threshold image to 1bpp before sending\n",
            "                        it to Tesseract for OCR. Can improve OCR quality\n",
            "                        compared to Tesseract's thresholder.\n",
            "\n",
            "OCR options:\n",
            "  Control how OCR is applied\n",
            "\n",
            "  -f, --force-ocr       Rasterize any text or vector objects on each page,\n",
            "                        apply OCR, and save the rastered output (this rewrites\n",
            "                        the PDF)\n",
            "  -s, --skip-text       Skip OCR on any pages that already contain text, but\n",
            "                        include the page in final output; useful for PDFs that\n",
            "                        contain a mix of images, text pages, and/or previously\n",
            "                        OCRed pages\n",
            "  --redo-ocr            Attempt to detect and remove the hidden OCR layer from\n",
            "                        files that were previously OCRed with OCRmyPDF or\n",
            "                        another program. Apply OCR to text found in raster\n",
            "                        images. Existing visible text objects will not be\n",
            "                        changed. If there is no existing OCR, OCR will be\n",
            "                        added.\n",
            "  --skip-big MPixels    Skip OCR on pages larger than the specified amount of\n",
            "                        megapixels, but include skipped pages in final output\n",
            "\n",
            "Optimization options:\n",
            "  Control how the PDF is optimized after OCR\n",
            "\n",
            "  -O {0,1,2,3}, --optimize {0,1,2,3}\n",
            "                        Control how PDF is optimized after processing:0 - do\n",
            "                        not optimize; 1 - do safe, lossless optimizations\n",
            "                        (default); 2 - do some lossy optimizations; 3 - do\n",
            "                        aggressive lossy optimizations (including lossy JBIG2)\n",
            "  --jpeg-quality Q      Adjust JPEG quality level for JPEG optimization. 100\n",
            "                        is best quality and largest output size; 1 is lowest\n",
            "                        quality and smallest output; 0 uses the default.\n",
            "  --png-quality Q       Adjust PNG quality level to use when quantizing PNGs.\n",
            "                        Values have same meaning as with --jpeg-quality\n",
            "  --jbig2-lossy         Enable JBIG2 lossy mode (better compression, not\n",
            "                        suitable for some use cases - see documentation).\n",
            "\n",
            "Advanced:\n",
            "  Advanced options to control OCRmyPDF\n",
            "\n",
            "  --pages PAGES         Limit OCR to the specified pages (ranges or comma\n",
            "                        separated), skipping others\n",
            "  --max-image-mpixels MPixels\n",
            "                        Set maximum number of pixels to unpack before treating\n",
            "                        an image as a decompression bomb\n",
            "  --pdf-renderer {auto,hocr,sandwich,hocrdebug}\n",
            "                        Choose OCR PDF renderer - the default option is to let\n",
            "                        OCRmyPDF choose. See documentation for discussion.\n",
            "  --rotate-pages-threshold CONFIDENCE\n",
            "                        Only rotate pages when confidence is above this value\n",
            "                        (arbitrary units reported by tesseract)\n",
            "  --pdfa-image-compression {auto,jpeg,lossless}\n",
            "                        Specify how to compress images in the output PDF/A.\n",
            "                        'auto' lets OCRmyPDF decide. 'jpeg' changes all\n",
            "                        grayscale and color images to JPEG compression.\n",
            "                        'lossless' uses PNG-style lossless compression for all\n",
            "                        images. Monochrome images are always compressed using\n",
            "                        a lossless codec. Compression settings are applied to\n",
            "                        all pages, including those for which OCR was skipped.\n",
            "                        Not supported for --output-type=pdf ; that setting\n",
            "                        preserves the original compression of all images.\n",
            "  --fast-web-view MEGABYTES\n",
            "                        If the size of file is more than this threshold (in\n",
            "                        MB), then linearize the PDF for fast web viewing. This\n",
            "                        allows the PDF to be displayed before it is fully\n",
            "                        downloaded in web browsers, but increases the space\n",
            "                        required slightly. By default we skip this for small\n",
            "                        files which do not benefit. If the threshold is 0 it\n",
            "                        will be apply to all files. Set the threshold very\n",
            "                        high to disable.\n",
            "  --plugin PLUGINS      Name of plugin to import. Argument may be issued\n",
            "                        multiple times to import multiple plugins. Plugins may\n",
            "                        be specified as module names in Python syntax,\n",
            "                        provided they are installed in the same Python\n",
            "                        (virtual) environment as ocrmypdf; or you may give the\n",
            "                        path to the Python file that contains the plugin.\n",
            "                        Plugins must conform to the specification in the\n",
            "                        OCRmyPDF documentation.\n",
            "\n",
            "Debugging:\n",
            "  Arguments to help with troubleshooting and debugging\n",
            "\n",
            "  -k, --keep-temporary-files\n",
            "                        Keep temporary files (helpful for debugging)\n",
            "\n",
            "Tesseract:\n",
            "  Advanced control of Tesseract OCR\n",
            "\n",
            "  --tesseract-config CFG\n",
            "                        Additional Tesseract configuration files -- see\n",
            "                        documentation\n",
            "  --tesseract-pagesegmode PSM\n",
            "                        Set Tesseract page segmentation mode (see tesseract\n",
            "                        --help)\n",
            "  --tesseract-oem MODE  Set Tesseract 4.0 OCR engine mode: 0 - original\n",
            "                        Tesseract only; 1 - neural nets LSTM only; 2 -\n",
            "                        Tesseract + LSTM; 3 - default.\n",
            "  --tesseract-timeout SECONDS\n",
            "                        Give up on OCR after the timeout, but copy the\n",
            "                        preprocessed page into the final output\n",
            "  --user-words FILE     Specify the location of the Tesseract user words file.\n",
            "                        This is a list of words Tesseract should consider\n",
            "                        while performing OCR in addition to its standard\n",
            "                        language dictionaries. This can improve OCR quality\n",
            "                        especially for specialized and technical documents.\n",
            "  --user-patterns FILE  Specify the location of the Tesseract user patterns\n",
            "                        file.\n",
            "\n",
            "OCRmyPDF attempts to keep the output file at about the same size.  If a file\n",
            "contains losslessly compressed images, and images in the output file will be\n",
            "losslessly compressed as well.\n",
            "\n",
            "PDF is a page description file that attempts to preserve a layout exactly.\n",
            "A PDF can contain vector objects (such as text or lines) and raster objects\n",
            "(images).  A page might have multiple images.  OCRmyPDF is prepared to deal\n",
            "with the wide variety of PDFs that exist in the wild.\n",
            "\n",
            "When a PDF page contains text, OCRmyPDF assumes that the page has already\n",
            "been OCRed or is a \"born digital\" page that should not be OCRed.  The default\n",
            "behavior is to exit in this case without producing a file.  You can use the\n",
            "option --skip-text to ignore pages with text, or --force-ocr to rasterize\n",
            "all objects on the page and produce an image-only PDF as output.\n",
            "\n",
            "    ocrmypdf --skip-text file_with_some_text_pages.pdf output.pdf\n",
            "\n",
            "    ocrmypdf --force-ocr word_document.pdf output.pdf\n",
            "\n",
            "If you are concerned about long-term archiving of PDFs, use the default option\n",
            "--output-type pdfa which converts the PDF to a standardized PDF/A-2b.  This\n",
            "removes some features from the PDF such as Javascript or forms. If you want to\n",
            "minimize the number of changes made to your PDF, use --output-type pdf.\n",
            "\n",
            "If OCRmyPDF is given an image file as input, it will attempt to convert the\n",
            "image to a PDF before processing.  For more control over the conversion of\n",
            "images to PDF, use the Python package img2pdf or other image to PDF software.\n",
            "\n",
            "For example, this command uses img2pdf to convert all .png files beginning\n",
            "with the 'page' prefix to a PDF, fitting each image on A4-sized paper, and\n",
            "sending the result to OCRmyPDF through a pipe.\n",
            "\n",
            "    img2pdf --pagesize A4 page*.png | ocrmypdf - myfile.pdf\n",
            "\n",
            "Online documentation is located at:\n",
            "    https://ocrmypdf.readthedocs.io/en/latest/introduction.html\n"
          ],
          "name": "stdout"
        }
      ]
    },
    {
      "cell_type": "code",
      "metadata": {
        "colab": {
          "base_uri": "https://localhost:8080/",
          "height": 0
        },
        "id": "RAMPPNQYRghq",
        "outputId": "060bebcb-b527-42a7-9e13-60e0255115de"
      },
      "source": [
        "from ctypes.util import find_library\n",
        "find_library(\"gs\")"
      ],
      "execution_count": 6,
      "outputs": [
        {
          "output_type": "execute_result",
          "data": {
            "application/vnd.google.colaboratory.intrinsic+json": {
              "type": "string"
            },
            "text/plain": [
              "'libgs.so.9'"
            ]
          },
          "metadata": {
            "tags": []
          },
          "execution_count": 6
        }
      ]
    },
    {
      "cell_type": "code",
      "metadata": {
        "id": "6vVNOL-yYhb2"
      },
      "source": [
        "#optional imports to make a pretty list\n",
        "import pandas as pd\n",
        "%load_ext google.colab.data_table"
      ],
      "execution_count": 7,
      "outputs": []
    },
    {
      "cell_type": "code",
      "metadata": {
        "id": "i-VxYtJ-jARe"
      },
      "source": [
        "!mkdir input_papers\n",
        "!mkdir output_papers"
      ],
      "execution_count": 8,
      "outputs": []
    },
    {
      "cell_type": "markdown",
      "metadata": {
        "id": "JFIUgo09Qb0d"
      },
      "source": [
        "## OCR Execution"
      ]
    },
    {
      "cell_type": "markdown",
      "metadata": {
        "id": "sEActy1Fcs9-"
      },
      "source": [
        "<==== click on the Folder logo.  \n",
        "Drag and drop you files in the \"input_papers\" folder.  \n",
        "The output files will be located in the \"output_papers\" folder.  \n",
        "(If the folders are not visible, refresh the explorer with the refresh button)"
      ]
    },
    {
      "cell_type": "code",
      "metadata": {
        "colab": {
          "base_uri": "https://localhost:8080/",
          "height": 253
        },
        "id": "mSqutb7ZVoA4",
        "outputId": "4623c4da-ac41-438b-c29a-cd9411886ca8"
      },
      "source": [
        "import os\n",
        "file_list = []\n",
        "\n",
        "input_folder_path = \"/content/input_papers\"\n",
        "output_folder_path = \"/content/output_papers\"\n",
        "\n",
        "for filename in os.listdir(input_folder_path):\n",
        "    if filename.endswith(\"pdf\"): \n",
        "      file_list.append(filename)\n",
        "\n",
        "print(\"The following files will be converted : \") \n",
        "pd.DataFrame(file_list, columns=[\"Filename\"])"
      ],
      "execution_count": 13,
      "outputs": [
        {
          "output_type": "stream",
          "text": [
            "The following files will be converted : \n"
          ],
          "name": "stdout"
        },
        {
          "output_type": "execute_result",
          "data": {
            "application/vnd.google.colaboratory.module+javascript": "\n      import \"https://ssl.gstatic.com/colaboratory/data_table/a6224c040fa35dcf/data_table.js\";\n\n      window.createDataTable({\n        data: [[{\n            'v': 0,\n            'f': \"0\",\n        },\n\"An overview of research on revenue management.pdf\"],\n [{\n            'v': 1,\n            'f': \"1\",\n        },\n\"Launching the revenue rocket how revenue management can work for your business.pdf\"],\n [{\n            'v': 2,\n            'f': \"2\",\n        },\n\"Identifying E-Scooter Sharing Customer Segments Using Clustering.pdf\"],\n [{\n            'v': 3,\n            'f': \"3\",\n        },\n\"Revenue Management and E-Commerce.pdf\"],\n [{\n            'v': 4,\n            'f': \"4\",\n        },\n\"Revenue Management Research Overview and Prospects. Transportation Science.pdf\"],\n [{\n            'v': 5,\n            'f': \"5\",\n        },\n\"Comparisons Among Clustering Techniques for electricity customer classification.pdf\"],\n [{\n            'v': 6,\n            'f': \"6\",\n        },\n\"A comparison of forecasting methods for hotel revenue management.pdf\"]],\n        columns: [[\"number\", \"index\"], [\"string\", \"Filename\"]],\n        columnOptions: [{\"width\": \"1px\", \"className\": \"index_column\"}],\n        rowsPerPage: 25,\n        helpUrl: \"https://colab.research.google.com/notebooks/data_table.ipynb\",\n        suppressOutputScrolling: true,\n        minimumWidth: undefined,\n      });\n    ",
            "text/html": [
              "<div>\n",
              "<style scoped>\n",
              "    .dataframe tbody tr th:only-of-type {\n",
              "        vertical-align: middle;\n",
              "    }\n",
              "\n",
              "    .dataframe tbody tr th {\n",
              "        vertical-align: top;\n",
              "    }\n",
              "\n",
              "    .dataframe thead th {\n",
              "        text-align: right;\n",
              "    }\n",
              "</style>\n",
              "<table border=\"1\" class=\"dataframe\">\n",
              "  <thead>\n",
              "    <tr style=\"text-align: right;\">\n",
              "      <th></th>\n",
              "      <th>Filename</th>\n",
              "    </tr>\n",
              "  </thead>\n",
              "  <tbody>\n",
              "    <tr>\n",
              "      <th>0</th>\n",
              "      <td>An overview of research on revenue management.pdf</td>\n",
              "    </tr>\n",
              "    <tr>\n",
              "      <th>1</th>\n",
              "      <td>Launching the revenue rocket how revenue manag...</td>\n",
              "    </tr>\n",
              "    <tr>\n",
              "      <th>2</th>\n",
              "      <td>Identifying E-Scooter Sharing Customer Segment...</td>\n",
              "    </tr>\n",
              "    <tr>\n",
              "      <th>3</th>\n",
              "      <td>Revenue Management and E-Commerce.pdf</td>\n",
              "    </tr>\n",
              "    <tr>\n",
              "      <th>4</th>\n",
              "      <td>Revenue Management Research Overview and Prosp...</td>\n",
              "    </tr>\n",
              "    <tr>\n",
              "      <th>5</th>\n",
              "      <td>Comparisons Among Clustering Techniques for el...</td>\n",
              "    </tr>\n",
              "    <tr>\n",
              "      <th>6</th>\n",
              "      <td>A comparison of forecasting methods for hotel ...</td>\n",
              "    </tr>\n",
              "  </tbody>\n",
              "</table>\n",
              "</div>"
            ],
            "text/plain": [
              "                                            Filename\n",
              "0  An overview of research on revenue management.pdf\n",
              "1  Launching the revenue rocket how revenue manag...\n",
              "2  Identifying E-Scooter Sharing Customer Segment...\n",
              "3              Revenue Management and E-Commerce.pdf\n",
              "4  Revenue Management Research Overview and Prosp...\n",
              "5  Comparisons Among Clustering Techniques for el...\n",
              "6  A comparison of forecasting methods for hotel ..."
            ]
          },
          "metadata": {
            "tags": []
          },
          "execution_count": 13
        }
      ]
    },
    {
      "cell_type": "markdown",
      "metadata": {
        "id": "2JY2Vjwuc9u5"
      },
      "source": [
        "Warning : several minutes per file, please check the above list before proceeding."
      ]
    },
    {
      "cell_type": "code",
      "metadata": {
        "colab": {
          "base_uri": "https://localhost:8080/"
        },
        "id": "T6UZ_pALYo2b",
        "outputId": "8f938066-0118-4f95-d484-39bb97b55e70"
      },
      "source": [
        "for filename in file_list:\n",
        "  print(\"Converting : \" + filename)\n",
        "  input_filename = input_folder_path+'/'+filename\n",
        "  output_filename = output_folder_path+'/'+filename\n",
        "  !ocrmypdf --force-ocr \"{input_filename}\" \"{output_filename}\""
      ],
      "execution_count": null,
      "outputs": [
        {
          "output_type": "stream",
          "text": [
            "Converting : An overview of research on revenue management.pdf\n",
            "Scanning contents: 100% 32/32 [00:00<00:00, 77.23page/s]\n",
            "Start processing 2 pages concurrently\n",
            "    1 page already has text! - rasterizing text and running OCR anyway\n",
            "    2 page already has text! - rasterizing text and running OCR anyway\n",
            "    3 page already has text! - rasterizing text and running OCR anyway\n",
            "    4 page already has text! - rasterizing text and running OCR anyway\n",
            "    5 page already has text! - rasterizing text and running OCR anyway\n",
            "    6 page already has text! - rasterizing text and running OCR anyway\n",
            "    7 page already has text! - rasterizing text and running OCR anyway\n",
            "    8 page already has text! - rasterizing text and running OCR anyway\n",
            "    9 page already has text! - rasterizing text and running OCR anyway\n",
            "   10 page already has text! - rasterizing text and running OCR anyway\n",
            "   11 page already has text! - rasterizing text and running OCR anyway\n",
            "   12 page already has text! - rasterizing text and running OCR anyway\n",
            "   13 page already has text! - rasterizing text and running OCR anyway\n",
            "   14 page already has text! - rasterizing text and running OCR anyway\n",
            "   15 page already has text! - rasterizing text and running OCR anyway\n",
            "   16 page already has text! - rasterizing text and running OCR anyway\n",
            "   17 page already has text! - rasterizing text and running OCR anyway\n",
            "   18 page already has text! - rasterizing text and running OCR anyway\n",
            "   19 page already has text! - rasterizing text and running OCR anyway\n",
            "   20 page already has text! - rasterizing text and running OCR anyway\n",
            "   21 page already has text! - rasterizing text and running OCR anyway\n",
            "   22 page already has text! - rasterizing text and running OCR anyway\n",
            "   23 page already has text! - rasterizing text and running OCR anyway\n",
            "   24 page already has text! - rasterizing text and running OCR anyway\n",
            "   25 page already has text! - rasterizing text and running OCR anyway\n",
            "   26 page already has text! - rasterizing text and running OCR anyway\n",
            "   27 page already has text! - rasterizing text and running OCR anyway\n",
            "   28 page already has text! - rasterizing text and running OCR anyway\n",
            "   29 page already has text! - rasterizing text and running OCR anyway\n",
            "   30 page already has text! - rasterizing text and running OCR anyway\n",
            "   31 page already has text! - rasterizing text and running OCR anyway\n",
            "   32 page already has text! - rasterizing text and running OCR anyway\n",
            "OCR: 100% 32.0/32.0 [03:26<00:00,  6.47s/page]\n",
            "Postprocessing...\n",
            "PDF/A conversion: 100% 32/32 [03:14<00:00,  6.96s/page]\n",
            "JPEGs: 0image [00:00, ?image/s]\n",
            "\n",
            "JBIG2: 0item [00:00, ?item/s]\n",
            "Optimize ratio: 1.00 savings: -0.1%\n",
            "Image optimization did not improve the file - discarded\n",
            "Output file is a PDF/A-2B (as expected)\n",
            "\u001b[33mThe output file size is 29.00× larger than the input file.\n",
            "Possible reasons for this include:\n",
            "The argument --force-ocr was issued, causing transcoding.\n",
            "The optional dependency 'jbig2' was not found, so some image optimizations could not be attempted.\n",
            "The optional dependency 'pngquant' was not found, so some image optimizations could not be attempted.\n",
            "PDF/A conversion was enabled. (Try `--output-type pdf`.)\n",
            "\u001b[0m\n",
            "PDF/A conversion: 100% 32/32 [03:51<00:00,  7.24s/page]\n",
            "Converting : Launching the revenue rocket how revenue management can work for your business.pdf\n",
            "Scanning contents: 100% 12/12 [00:00<00:00, 105.91page/s]\n",
            "Start processing 2 pages concurrently\n",
            "    2 page already has text! - rasterizing text and running OCR anyway\n",
            "    1 page already has text! - rasterizing text and running OCR anyway\n",
            "    3 page already has text! - rasterizing text and running OCR anyway\n",
            "    4 page already has text! - rasterizing text and running OCR anyway\n",
            "    5 page already has text! - rasterizing text and running OCR anyway\n",
            "    6 page already has text! - rasterizing text and running OCR anyway\n",
            "    7 page already has text! - rasterizing text and running OCR anyway\n",
            "    8 page already has text! - rasterizing text and running OCR anyway\n",
            "    7 \u001b[33m[tesseract] lots of diacritics - possibly poor OCR\u001b[0m\n",
            "    9 page already has text! - rasterizing text and running OCR anyway\n",
            "   10 page already has text! - rasterizing text and running OCR anyway\n",
            "    9 \u001b[33m[tesseract] lots of diacritics - possibly poor OCR\u001b[0m\n",
            "   11 page already has text! - rasterizing text and running OCR anyway\n",
            "   12 page already has text! - rasterizing text and running OCR anyway\n",
            "OCR: 100% 12.0/12.0 [01:46<00:00,  8.84s/page]\n",
            "Postprocessing...\n",
            "\u001b[33mSome input metadata could not be copied because it is not permitted in PDF/A. You may wish to examine the output PDF's XMP metadata.\u001b[0m\n",
            "PDF/A conversion: 100% 12/12 [02:33<00:00, 12.61s/page]\n",
            "JPEGs: 0image [00:00, ?image/s]\n",
            "\n",
            "JBIG2: 0item [00:00, ?item/s]\n",
            "Optimize ratio: 1.00 savings: -0.0%\n",
            "Image optimization did not improve the file - discarded\n",
            "Output file is a PDF/A-2B (as expected)\n",
            "\u001b[33mThe output file size is 4.10× larger than the input file.\n",
            "Possible reasons for this include:\n",
            "The argument --force-ocr was issued, causing transcoding.\n",
            "The optional dependency 'jbig2' was not found, so some image optimizations could not be attempted.\n",
            "The optional dependency 'pngquant' was not found, so some image optimizations could not be attempted.\n",
            "PDF/A conversion was enabled. (Try `--output-type pdf`.)\n",
            "\u001b[0m\n",
            "PDF/A conversion: 100% 12/12 [02:58<00:00, 14.85s/page]\n",
            "Converting : Identifying E-Scooter Sharing Customer Segments Using Clustering.pdf\n",
            "Scanning contents: 100% 8/8 [00:02<00:00,  2.92page/s]\n",
            "Start processing 2 pages concurrently\n",
            "    1 page already has text! - rasterizing text and running OCR anyway\n",
            "    2 page already has text! - rasterizing text and running OCR anyway\n",
            "    3 page already has text! - rasterizing text and running OCR anyway\n",
            "    4 page already has text! - rasterizing text and running OCR anyway\n",
            "OCR:  25% 2.0/8.0 [00:24<03:23, 33.88s/page]"
          ],
          "name": "stdout"
        }
      ]
    }
  ]
}